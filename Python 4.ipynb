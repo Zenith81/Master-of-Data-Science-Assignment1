{
 "cells": [
  {
   "cell_type": "code",
   "execution_count": 6,
   "metadata": {},
   "outputs": [
    {
     "name": "stdout",
     "output_type": "stream",
     "text": [
      "result of words length:  [5, 13, 9]\n"
     ]
    }
   ],
   "source": [
    "def funcmaplen(words):\n",
    "    listwordlen = []\n",
    "    for word in words:\n",
    "        listwordlen.append(len(word))\n",
    "    return listwordlen\n",
    "words = ['india', 'united states', 'australia']\n",
    "print(\"result of words length: \", funcmaplen(words))"
   ]
  },
  {
   "cell_type": "code",
   "execution_count": 8,
   "metadata": {},
   "outputs": [
    {
     "name": "stdout",
     "output_type": "stream",
     "text": [
      "Check letter 'c' is vowel:  False\n",
      "Check letter 'e' is vowel:  True\n"
     ]
    }
   ],
   "source": [
    "def funcIsVowel(char):\n",
    "    vowels = 'aeiou'\n",
    "    return char in vowels\n",
    "print(\"Check letter 'c' is vowel: \",funcIsVowel('c'))\n",
    "print(\"Check letter 'e' is vowel: \",funcIsVowel('e'))"
   ]
  },
  {
   "cell_type": "code",
   "execution_count": null,
   "metadata": {},
   "outputs": [],
   "source": []
  }
 ],
 "metadata": {
  "kernelspec": {
   "display_name": "Python 3",
   "language": "python",
   "name": "python3"
  },
  "language_info": {
   "codemirror_mode": {
    "name": "ipython",
    "version": 3
   },
   "file_extension": ".py",
   "mimetype": "text/x-python",
   "name": "python",
   "nbconvert_exporter": "python",
   "pygments_lexer": "ipython3",
   "version": "3.6.4"
  }
 },
 "nbformat": 4,
 "nbformat_minor": 2
}
